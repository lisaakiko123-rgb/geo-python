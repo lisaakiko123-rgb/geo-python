{
 "cells": [
  {
   "cell_type": "markdown",
   "id": "9fd1cc6e",
   "metadata": {},
   "source": [
    "# CS1112 Project 1\n",
    "**Your NetID(s):**\n",
    "\n",
    "Write your NetID(s) only; do not write your name(s)."
   ]
  },
  {
   "cell_type": "markdown",
   "id": "bc89cc33",
   "metadata": {},
   "source": [
    "## Problem 3 Field of View of a Camera"
   ]
  },
  {
   "cell_type": "code",
   "execution_count": null,
   "id": "77f22e13",
   "metadata": {},
   "outputs": [],
   "source": [
    "%matplotlib qt \n",
    "# Display plot outside the notebook in a separate window. \n",
    "# Execute this command once only."
   ]
  },
  {
   "cell_type": "code",
   "execution_count": null,
   "id": "92f724f2",
   "metadata": {},
   "outputs": [],
   "source": [
    "# Draw the field-of-view lines of a camera in a room given a focal point and\n",
    "# determine whether the center of the room is within the field of view.\n",
    "\n",
    "import random\n",
    "import math\n",
    "import matplotlib.pyplot as plt \n",
    "  # Use plt as an alias so we don't have to type out matplolib.pyplot every time\n",
    "\n",
    "# Set up the window\n",
    "plt.close('all')        # close all currently open figure windows\n",
    "plt.figure()            # creates a new figure window\n",
    "ax= plt.gca()           # gets current axes\n",
    "ax.set_aspect('equal')  # unit lengths on x- and y-axis are equal (equal scaling)\n",
    "\n",
    "# Parameter\n",
    "side= 10.    # side length of the square room\n",
    "\n",
    "# Draw walls in cyan, lower-left corner at (0,0)\n",
    "plt.axis((-1, side+1, -1, side+1))  # x-axis limits -1 to side+1, \n",
    "                                    # y-axis limits -1 to side+1\n",
    "plt.plot([0, side],    [0, 0], 'c-', linewidth=3)  # format: Cyan line of width 3\n",
    "plt.plot([side, side], [0, side], 'c-', linewidth=3)\n",
    "plt.plot([side, 0],    [side, side], 'c-', linewidth=3)\n",
    "plt.plot([0, 0],       [side, 0], 'c-', linewidth=3)\n",
    "\n",
    "# Mark the center of the room\n",
    "xcenter= side/2\n",
    "ycenter= side/2\n",
    "plt.plot(xcenter, ycenter, 'c+')  # format: Cyan cross\n",
    "\n",
    "### Do not change the code above ###\n",
    "####################################\n",
    "### Modify the code below ##########\n",
    "\n",
    "# Field of view (FOV) of camera, assume >0 and <180 degrees\n",
    "fov_degree= 90\n",
    "\n",
    "# Location of camera on south wall\n",
    "xr= 4.5\n",
    "yr= 0\n",
    "plt.plot(xr, yr, 'bo')       # format: Blue circle\n",
    "plt.text(xr, yr-.5, 'Camera')\n",
    "\n",
    "# User-clicked point indicates camera focus. \n",
    "# Assume user clicks within room and not on camera.\n",
    "plt.title('Click in the room and away from the camera to set camera focus')\n",
    "plt.show()\n",
    "point= plt.ginput(1)  # Accepts one user click; note time-out of 30 seconds\n",
    "xu, yu= point[0]      # Stores x-coord of click in variable xu,\n",
    "                      #        y-coord of click in variable yu\n",
    "plt.plot(xu, yu, 'rx')   # format: Red x\n",
    "plt.title(f'You clicked at ({xu:.1f},{yu:.1f})')\n",
    "\n",
    "# Draw line to connect the two points\n",
    "plt.plot([xr, xu], [yr, yu], 'k:')  # format: blacK dotted line of default width\n",
    "\n",
    "\n",
    "\n",
    "####################################\n",
    "### Do not change the code below ###\n",
    "print('Bye')"
   ]
  }
 ],
 "metadata": {
  "kernelspec": {
   "display_name": "Python 3 (ipykernel)",
   "language": "python",
   "name": "python3"
  },
  "language_info": {
   "codemirror_mode": {
    "name": "ipython",
    "version": 3
   },
   "file_extension": ".py",
   "mimetype": "text/x-python",
   "name": "python",
   "nbconvert_exporter": "python",
   "pygments_lexer": "ipython3",
   "version": "3.11.4"
  }
 },
 "nbformat": 4,
 "nbformat_minor": 5
}
