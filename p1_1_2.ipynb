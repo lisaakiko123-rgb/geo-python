{
 "cells": [
  {
   "cell_type": "markdown",
   "id": "b287ba08",
   "metadata": {},
   "source": [
    "# CS1112 Project 1\n",
    "**Your NetID(s):**\n",
    "lai23\n",
    "Write your NetID(s) only; do not write your name(s)."
   ]
  },
  {
   "cell_type": "markdown",
   "id": "1487eb1a",
   "metadata": {},
   "source": [
    "## Problem 1 Kepler's Model of Planetary Orbits"
   ]
  },
  {
   "cell_type": "code",
   "execution_count": 1,
   "id": "1f85a146",
   "metadata": {},
   "outputs": [
    {
     "name": "stdout",
     "output_type": "stream",
     "text": [
      "Sphere        Radius      Circumference\n",
      "---------------------------------------\n",
      "  1     159.15494         1000.00000\n",
      "  2      91.88815          577.35027\n",
      "  3      30.62938          192.45009\n",
      "  4      24.33978          152.93132\n",
      "  5      19.34171          121.52756\n",
      "  6      11.16694           70.16397\n"
     ]
    }
   ],
   "source": [
    "#calculate the radius and circumference of the six spheres in Kepler's model\n",
    "import math\n",
    "\n",
    "#create table header\n",
    "print(f\"{'Sphere':>3} {'Radius':>13} {'Circumference':>18}\")\n",
    "print(\"-\" * 39)\n",
    "\n",
    "#Given the circumference of the outermost sphere is 1000 length units:\n",
    "circumference = 1000\n",
    "#Calculate the radius of the outermost sphere using the formula C=2πR:\n",
    "radius = (circumference)/(2*math.pi)\n",
    "\n",
    "#sphere 1\n",
    "print(f\"{1:>3} {radius:>13.5f} {circumference:>18.5f}\")\n",
    "\n",
    "#sphere 2 in the cube\n",
    "r_to_R_cube = (1/2)/(math.sqrt(3)/2) #ratio between the inner radius and outer radius of the cube\n",
    "radius*=r_to_R_cube #multiply by ratio to get the radius for sphere 2\n",
    "circumference = 2*math.pi*radius #use the radius of sphere 2 to get the circumference of sphere 2\n",
    "print(f\"{2:>3} {radius:>13.5f} {circumference:>18.5f}\")\n",
    "\n",
    "#sphere 3 in the tetrahedron\n",
    "r_to_R_tetrahedron = (math.sqrt(6)/12)/(math.sqrt(6)/4) #ratio between the inner radius and outer radius of the tetrahedron\n",
    "radius*=r_to_R_tetrahedron #multiply by ratio to get the radius for sphere 3\n",
    "circumference = 2*math.pi*radius #use the radius of sphere 3 to get the circumference of sphere 3\n",
    "print(f\"{3:>3} {radius:>13.5f} {circumference:>18.5f}\")\n",
    "\n",
    "#sphere 4 in the dodecahedron\n",
    "r_to_R_dodecahedron = ((math.sqrt(250+(110*math.sqrt(5))))/20)/((math.sqrt(15)+math.sqrt(3))/4) #ratio between the inner radius and outer radius of the dodecahedron\n",
    "radius*=r_to_R_dodecahedron #multiply by ratio to get the radius for sphere 4\n",
    "circumference = 2*math.pi*radius #use the radius of sphere 4 to get the circumference of sphere 4\n",
    "print(f\"{4:>3} {radius:>13.5f} {circumference:>18.5f}\")\n",
    "\n",
    "#sphere 5 in the icosahedron \n",
    "r_to_R_icosahedron = ((math.sqrt(250+(110*math.sqrt(5))))/20)/((math.sqrt(15)+math.sqrt(3))/4) #ratio between the inner radius and outer radius of the icosahedron\n",
    "radius*=r_to_R_icosahedron #multiply by ratio to get the radius for sphere 5\n",
    "circumference = 2*math.pi*radius #use the radius of sphere 5 to get the circumference of sphere 5\n",
    "print(f\"{5:>3} {radius:>13.5f} {circumference:>18.5f}\")\n",
    "\n",
    "#sphere 6 in the octahedron\n",
    "r_to_R_octahedron = ((math.sqrt(6))/6)/((math.sqrt(2))/2) #ratio between the inner radius and outer radius of the octahedron\n",
    "radius*=r_to_R_octahedron #multiply by ratio to get the radius for sphere 6\n",
    "circumference = 2*math.pi*radius #use the radius of sphere 6 to get the circumference of sphere 6\n",
    "print(f\"{6:>3} {radius:>13.5f} {circumference:>18.5f}\")\n"
   ]
  },
  {
   "cell_type": "markdown",
   "id": "644614db",
   "metadata": {},
   "source": [
    "## Problem 2 Book Sale\n",
    "This problem is modified from [Section 2.10, Exercise 2 Problem 2](https://greenteapress.com/thinkpython2/html/thinkpython2003.html#sec25)"
   ]
  },
  {
   "cell_type": "code",
   "execution_count": 9,
   "id": "4516c9f9",
   "metadata": {},
   "outputs": [
    {
     "name": "stdin",
     "output_type": "stream",
     "text": [
      "Enter the cover price: 100\n",
      "Enter the number of copies: 1\n",
      "Is this a bookstore? (y/n): y\n",
      "Enter the bookstore discount percentage: 10\n"
     ]
    },
    {
     "name": "stdout",
     "output_type": "stream",
     "text": [
      "----Bookstore bill----\n",
      "Book cost: 90.00\n",
      "shipping cost: 5.00\n",
      "Taxes: 0.00\n",
      "Total cost: 95.00\n"
     ]
    }
   ],
   "source": [
    "#calculate the total bill for the client based off of their certain requirements\n",
    "\n",
    "#inputs from the customer\n",
    "cover_price = float(input(\"Enter the cover price:\"))\n",
    "number_of_copies = int(input(\"Enter the number of copies:\"))\n",
    "store_or_customer = input(\"Is this a bookstore? (y/n):\")\n",
    "\n",
    "#initialize prices\n",
    "shipping = 0\n",
    "cost_of_book = 0\n",
    "taxes = 0\n",
    "\n",
    "#when the customer is a bookstore\n",
    "if store_or_customer == 'y' or store_or_customer == 'Y':\n",
    "    percent_discount = float(input(\"Enter the bookstore discount percentage:\")) #discount for the bookstore\n",
    "    cost_of_book = (number_of_copies * cover_price) * ((100 - percent_discount)/100) #cost - the percent discount for the bookstore\n",
    "    print(\"----Bookstore bill----\")\n",
    "#when the customer is an individual \n",
    "if store_or_customer == 'n' or store_or_customer == 'N':\n",
    "    rate_of_tax = float(input(\"Enter the tax rate percentage:\")) #tax rate for the individual\n",
    "    cost_of_book = number_of_copies * cover_price \n",
    "    taxes = cost_of_book * (rate_of_tax/100) \n",
    "    print(\"----Individual customer bill----\")\n",
    "\n",
    "#shipping calculations\n",
    "if number_of_copies > 0:\n",
    "    shipping = 5 + (0.90 * (number_of_copies -1))\n",
    "\n",
    "#calculations for the total cost\n",
    "total_cost = shipping + cost_of_book + taxes\n",
    "\n",
    "#the bill for the customer/output they recieve\n",
    "print(f\"Book cost: {cost_of_book:.2f}\")\n",
    "print(f\"shipping cost: {shipping:.2f}\")\n",
    "print(f\"Taxes: {taxes:.2f}\")\n",
    "print(f\"Total cost: {total_cost:.2f}\")\n"
   ]
  },
  {
   "cell_type": "code",
   "execution_count": null,
   "id": "d4999081-a991-4b26-baa2-2c55430f81e2",
   "metadata": {},
   "outputs": [],
   "source": []
  }
 ],
 "metadata": {
  "kernelspec": {
   "display_name": "Python 3 (ipykernel)",
   "language": "python",
   "name": "python3"
  },
  "language_info": {
   "codemirror_mode": {
    "name": "ipython",
    "version": 3
   },
   "file_extension": ".py",
   "mimetype": "text/x-python",
   "name": "python",
   "nbconvert_exporter": "python",
   "pygments_lexer": "ipython3",
   "version": "3.12.4"
  }
 },
 "nbformat": 4,
 "nbformat_minor": 5
}
